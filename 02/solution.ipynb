{
 "cells": [
  {
   "cell_type": "code",
   "execution_count": 2,
   "metadata": {},
   "outputs": [
    {
     "name": "stdout",
     "output_type": "stream",
     "text": [
      "202 271\n",
      "Total Characters: 499\n"
     ]
    }
   ],
   "source": [
    "# compressed code\n",
    "(lambda w,n:(lambda o:print(sum(o[0]),sum(o[1])))(list(zip(*[(lambda f:(f[0],any(f)))((lambda l:(lambda A:(lambda a:[(lambda d:all(n.isin(n.abs(d),[1,2,3])) and abs(sum(n.sign(d)))==len(d))(d) for d in [A@r]+[a(i)@r for i in range(l)]])(lambda i:n.insert(A[1:,1:],i,[0]*(len(A)-1),1)))(n.array([([0]*i+[1,-1]+[0]*(l-2-i)) for i in range(l-1)])))(len(r))) for r in w]))))([[int(j) for j in i.strip().split(' ')] for i in open(__import__('os').path.realpath('input')).readlines()],__import__('numpy'))\n",
    "\n",
    "# length printout\n",
    "print('Total Characters:', len(In[-1])-80)"
   ]
  },
  {
   "cell_type": "code",
   "execution_count": null,
   "metadata": {},
   "outputs": [
    {
     "name": "stdout",
     "output_type": "stream",
     "text": [
      "202 271\n"
     ]
    }
   ],
   "source": [
    "import os, numpy as n\n",
    "\n",
    "def check_diffs(d):\n",
    "    return all(n.isin(n.abs(d),[1,2,3])) and abs(sum(n.sign(d)))==len(d)\n",
    "\n",
    "with open(os.path.realpath('input')) as f: \n",
    "    w = [[int(j) for j in i.strip().split(' ')] for i in f.readlines()]\n",
    "\n",
    "normal, mod = [], []\n",
    "\n",
    "for r in w:\n",
    "    A = n.array([([0]*i+[1,-1]+[0]*(len(r)-2-i)) for i in range(len(r)-1)])\n",
    "    a = lambda i: n.insert(A[1:,1:],i,[0]*(len(A)-1),1)\n",
    "    f = [check_diffs(d) for d in [A@r]+[a(i)@r for i in range(len(r))]]\n",
    "    normal.append(f[0])\n",
    "    mod.append(any(f))\n",
    "\n",
    "print(sum(normal), sum(mod))"
   ]
  }
 ],
 "metadata": {
  "kernelspec": {
   "display_name": ".venv",
   "language": "python",
   "name": "python3"
  },
  "language_info": {
   "codemirror_mode": {
    "name": "ipython",
    "version": 3
   },
   "file_extension": ".py",
   "mimetype": "text/x-python",
   "name": "python",
   "nbconvert_exporter": "python",
   "pygments_lexer": "ipython3",
   "version": "3.13.0"
  }
 },
 "nbformat": 4,
 "nbformat_minor": 2
}
