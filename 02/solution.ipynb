{
 "cells": [
  {
   "cell_type": "code",
   "execution_count": 2,
   "metadata": {},
   "outputs": [
    {
     "name": "stdout",
     "output_type": "stream",
     "text": [
      "202 271\n",
      "Total Characters: 499\n"
     ]
    }
   ],
   "source": [
    "# compressed code\n",
    "(lambda w,n:(lambda o:print(sum(o[0]),sum(o[1])))(list(zip(*[(lambda f:(f[0],any(f)))((lambda l:(lambda A:(lambda a:[(lambda d:all(n.isin(n.abs(d),[1,2,3])) and abs(sum(n.sign(d)))==len(d))(d) for d in [A@r]+[a(i)@r for i in range(l)]])(lambda i:n.insert(A[1:,1:],i,[0]*(len(A)-1),1)))(n.array([([0]*i+[1,-1]+[0]*(l-2-i)) for i in range(l-1)])))(len(r))) for r in w]))))([[int(j) for j in i.strip().split(' ')] for i in open(__import__('os').path.realpath('input')).readlines()],__import__('numpy'))\n",
    "\n",
    "# length printout\n",
    "print('Total Characters:', len(In[-1])-80)"
   ]
  },
  {
   "cell_type": "code",
   "execution_count": null,
   "metadata": {},
   "outputs": [
    {
     "name": "stdout",
     "output_type": "stream",
     "text": [
      "202 271\n"
     ]
    }
   ],
   "source": [
    "# uncompressed code\n",
    "import os, numpy as n\n",
    "\n",
    "with open(os.path.realpath('input')) as f: \n",
    "    w = [[int(j) for j in i.strip().split(' ')] for i in f.readlines()]\n",
    "\n",
    "# function that checks if differences all meet the requirements\n",
    "check_diffs = lambda d: all(n.isin(n.abs(d),[1,2,3])) and abs(sum(n.sign(d)))==len(d)\n",
    "\n",
    "# get differences by matrix multiplying A.x, \n",
    "# where `A` is a transformation matrix, and `x` is the input vector of raw height values\n",
    "# `a` creates a similar matrix to A that excludes the ith variable\n",
    "\n",
    "normal, mod = [], [] # collectors\n",
    "\n",
    "for r in w:\n",
    "    # transformation matrix for whole input\n",
    "    A = n.array([([0]*i+[1,-1]+[0]*(len(r)-2-i)) for i in range(len(r)-1)])\n",
    "    \n",
    "    # transformation matrix to exclude an element of the input\n",
    "    a = lambda i: n.insert(A[1:,1:],i,[0]*(len(A)-1),1)\n",
    "\n",
    "    # differences list for whole input vector:\n",
    "    D = A@r\n",
    "\n",
    "    # list of difference lists for single-removal input vector\n",
    "    d = [a(i)@r for i in range(len(r))]\n",
    "\n",
    "    # validate each of the difference lists beginning with the whole input vector\n",
    "    f = [check_diffs(i) for i in [D]+d]\n",
    "    \n",
    "    # add vals to the collector lists\n",
    "    normal.append(f[0])\n",
    "    mod.append(any(f))\n",
    "\n",
    "print(sum(normal), sum(mod))"
   ]
  }
 ],
 "metadata": {
  "kernelspec": {
   "display_name": ".venv",
   "language": "python",
   "name": "python3"
  },
  "language_info": {
   "codemirror_mode": {
    "name": "ipython",
    "version": 3
   },
   "file_extension": ".py",
   "mimetype": "text/x-python",
   "name": "python",
   "nbconvert_exporter": "python",
   "pygments_lexer": "ipython3",
   "version": "3.13.0"
  }
 },
 "nbformat": 4,
 "nbformat_minor": 2
}
