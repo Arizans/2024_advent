{
 "cells": [
  {
   "cell_type": "code",
   "execution_count": 1,
   "metadata": {},
   "outputs": [
    {
     "name": "stdout",
     "output_type": "stream",
     "text": [
      "[202, 271]\n",
      "Total Characters: 520\n"
     ]
    }
   ],
   "source": [
    "# compressed code\n",
    "with open(__import__('os').path.realpath('input')) as f:print((lambda w,n:[sum(i) for i in zip(*[(lambda s:(s[0],any(s)))(s=(lambda a:[(lambda d:(len({i/abs(i) for i in d})==1) if all(n.isin(n.abs(d),[1,2,3])) else False)(d) for d in [a[1]@a[0]]+[a[2]@n.hstack((a[0][:j],a[0][j+1:])) for j in range(len(r))]])([n.array(r)]+[(lambda s:n.array([([0]*i+[1,-1]+[0]*(s-1-i)) for i in range(s)]))(len(r)-j) for j in [1,2]])) for r in w])])([[int(j) for j in i.strip().split(' ')] for i in f.readlines()], __import__('numpy')))\n",
    "\n",
    "# length printout\n",
    "print('Total Characters:', len(In[-1])-80)"
   ]
  },
  {
   "cell_type": "code",
   "execution_count": null,
   "metadata": {},
   "outputs": [
    {
     "name": "stderr",
     "output_type": "stream",
     "text": [
      "C:\\Users\\sariz\\AppData\\Local\\Temp\\ipykernel_37968\\3705509320.py:6: RuntimeWarning: invalid value encountered in scalar divide\n",
      "  if len({i/abs(i) for i in diffs})==1:\n"
     ]
    },
    {
     "data": {
      "text/plain": [
       "(366, 691)"
      ]
     },
     "execution_count": 37,
     "metadata": {},
     "output_type": "execute_result"
    }
   ],
   "source": [
    "import os, numpy as n\n",
    "\n",
    "def check_diffs(diffs):\n",
    "    safe = False\n",
    "\n",
    "    if all(n.isin(n.abs(diffs),[1,2,3])):\n",
    "        if len({i/abs(i) for i in diffs})==1:\n",
    "            safe = True\n",
    "    \n",
    "    return safe\n",
    "\n",
    "def diff_array(size):\n",
    "    return n.array([([0]*i+[1,-1]+[0]*(size-1-i)) for i in range(size)])\n",
    "\n",
    "with open(os.path.realpath('input')) as f: \n",
    "    w = [[int(j) for j in i.strip().split(' ')] for i in f.readlines()]\n",
    "\n",
    "normal = []\n",
    "mod = []\n",
    "for r in w:\n",
    "    a = [n.array(r)] + [diff_array(len(r)-j) for j in [1,2]]\n",
    "    \n",
    "    f = [check_diffs(d) for d in [a[1]@a[0]]+[a[2]@n.hstack((a[0][:j],a[0][j+1:])) for j in range(len(r))]]\n",
    "    \n",
    "    normal.append(f[0])\n",
    "    mod.append(any(f))\n",
    "\n",
    "sum(normal), sum(mod)\n",
    "    "
   ]
  }
 ],
 "metadata": {
  "kernelspec": {
   "display_name": ".venv",
   "language": "python",
   "name": "python3"
  },
  "language_info": {
   "codemirror_mode": {
    "name": "ipython",
    "version": 3
   },
   "file_extension": ".py",
   "mimetype": "text/x-python",
   "name": "python",
   "nbconvert_exporter": "python",
   "pygments_lexer": "ipython3",
   "version": "3.13.0"
  }
 },
 "nbformat": 4,
 "nbformat_minor": 2
}
