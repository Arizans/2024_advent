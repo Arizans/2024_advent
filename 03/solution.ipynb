{
 "cells": [
  {
   "cell_type": "code",
   "execution_count": 3,
   "metadata": {},
   "outputs": [
    {
     "name": "stdout",
     "output_type": "stream",
     "text": [
      "187825547 85508223\n",
      "Total Characters: 293\n"
     ]
    }
   ],
   "source": [
    "# compressed code\n",
    "(lambda w,e:(lambda m,x,f,s:print(s(f(m,w)),s(f(m,''.join(f(x,w))))))(r\"mul\\((\\d+),(\\d+)\\)\",r\"(?:do\\(\\)|^)(.*?)(?:don't\\(\\)|$)\",lambda p,r:e.findall(p,r),lambda t:sum(map(lambda t:int(t[0])*int(t[1]),t))))(open(__import__('os').path.realpath('input')).read().replace('\\n',''),__import__('re'))\n",
    "\n",
    "# length printout\n",
    "print('Total Characters:', len(In[-1])-80)"
   ]
  },
  {
   "cell_type": "code",
   "execution_count": null,
   "metadata": {},
   "outputs": [
    {
     "data": {
      "text/plain": [
       "(187825547, 85508223)"
      ]
     },
     "execution_count": 195,
     "metadata": {},
     "output_type": "execute_result"
    }
   ],
   "source": [
    "# uncompressed\n",
    "import os, re\n",
    "\n",
    "with open(os.path.realpath('input')) as f: \n",
    "    w = f.read().replace('\\n','')\n",
    "\n",
    "# regex to find `mul(#,#)`\n",
    "m = r\"mul\\((\\d+),(\\d+)\\)\"\n",
    "\n",
    "# regex to find unexcluded regions\n",
    "x = r\"(?:do\\(\\)|^)(.*?)(?:don't\\(\\)|$)\"\n",
    "\n",
    "# function to find generic pattern in a string\n",
    "f = lambda p,r:re.findall(p,r)\n",
    "\n",
    "# function to find sum after multipying all tuples\n",
    "s = lambda t:sum(map(lambda t: int(t[0])*int(t[1]), t))\n",
    "\n",
    "# get sum of all mul(#,#) results\n",
    "a = s(f(m, w))\n",
    "\n",
    "# get sum of all unexcluded mul(#,#) results\n",
    "b = s(f(m, ''.join(f(x,w))))\n",
    "\n",
    "a, b"
   ]
  }
 ],
 "metadata": {
  "kernelspec": {
   "display_name": ".venv",
   "language": "python",
   "name": "python3"
  },
  "language_info": {
   "codemirror_mode": {
    "name": "ipython",
    "version": 3
   },
   "file_extension": ".py",
   "mimetype": "text/x-python",
   "name": "python",
   "nbconvert_exporter": "python",
   "pygments_lexer": "ipython3",
   "version": "3.13.0"
  }
 },
 "nbformat": 4,
 "nbformat_minor": 2
}
