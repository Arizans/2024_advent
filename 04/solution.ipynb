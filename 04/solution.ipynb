{
 "cells": [
  {
   "cell_type": "code",
   "execution_count": 5,
   "metadata": {},
   "outputs": [
    {
     "name": "stdout",
     "output_type": "stream",
     "text": [
      "raw\n",
      "Total Characters: 27\n"
     ]
    }
   ],
   "source": [
    "# compressed code\n",
    "(lambda x: print(x))('raw')\n",
    "\n",
    "# length printout\n",
    "print('Total Characters:', len(In[-1])-80)"
   ]
  },
  {
   "cell_type": "code",
   "execution_count": 238,
   "metadata": {},
   "outputs": [],
   "source": [
    "import os"
   ]
  },
  {
   "cell_type": "code",
   "execution_count": 240,
   "metadata": {},
   "outputs": [
    {
     "data": {
      "text/plain": [
       "2530"
      ]
     },
     "execution_count": 240,
     "metadata": {},
     "output_type": "execute_result"
    }
   ],
   "source": [
    "import re\n",
    "import os\n",
    "with open(os.path.realpath('input'), 'r') as t:\n",
    "    t = t.readlines()\n",
    "\n",
    "y,x = len(t),len(t[0])\n",
    "\n",
    "f = lambda i: len(re.findall(r'(?<=X)MA(?=S)|(?<=S)AM(?=X)', '|'.join(i))) # list > int\n",
    "\n",
    "#// check horizontally\n",
    "h = f(t)\n",
    "\n",
    "#// check vertically\n",
    "v = f(map(''.join, zip(*t)))\n",
    "\n",
    "#// diagonal scanner\n",
    "diag = lambda c,num:''.join([c[i][num-i] for i in range(num+1) if (i<y)and((num-i)<x)])\n",
    "\n",
    "#// topright to bottomleft\n",
    "d1 = f([diag(t,i) for i in range(x+y-1)])\n",
    "\n",
    "# topleft to bottomright\n",
    "d2 = f([diag([i[::-1] for i in t],i) for i in range(x+y-1)])\n",
    "\n",
    "h+v+d1+d2"
   ]
  }
 ],
 "metadata": {
  "kernelspec": {
   "display_name": ".venv",
   "language": "python",
   "name": "python3"
  },
  "language_info": {
   "codemirror_mode": {
    "name": "ipython",
    "version": 3
   },
   "file_extension": ".py",
   "mimetype": "text/x-python",
   "name": "python",
   "nbconvert_exporter": "python",
   "pygments_lexer": "ipython3",
   "version": "3.13.0"
  }
 },
 "nbformat": 4,
 "nbformat_minor": 2
}
