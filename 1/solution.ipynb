{
 "cells": [
  {
   "cell_type": "code",
   "execution_count": 37,
   "metadata": {},
   "outputs": [
    {
     "name": "stdout",
     "output_type": "stream",
     "text": [
      "1341714 27384707\n",
      "Total Characters: 332\n"
     ]
    }
   ],
   "source": [
    "# compressed code\n",
    "(lambda d: print(sum(abs(d[0]-d[1])), (lambda d: sum(d['key_0']*d['0_y']))(d.merge(d.groupby(1,as_index=False).count(),left_on=0,right_on=1))))((lambda p: p.DataFrame({j:sorted(k) for j,k in enumerate(zip(*[i.strip().split() for i in open(__import__('os').path.realpath('input')).readlines()]))}).astype(int))(__import__('pandas')))\n",
    "\n",
    "# length printout\n",
    "print('Total Characters:', len(In[-1])-80)"
   ]
  },
  {
   "cell_type": "code",
   "execution_count": null,
   "metadata": {},
   "outputs": [
    {
     "name": "stdout",
     "output_type": "stream",
     "text": [
      "1003\n"
     ]
    }
   ],
   "source": [
    "# uncompressed\n",
    "import os\n",
    "import pandas as pd\n",
    "\n",
    "with open(os.path.realpath('input')) as f: \n",
    "    raw = f.readlines() # read lines of file\n",
    "    processed = [i.strip().split() for i in raw] # convert to properly formatted lists\n",
    "    cols = zip(*processed) # turn them into columns\n",
    "    sort_cols = {i:sorted(j) for i, j in enumerate(cols)} # presort and set up column headers\n",
    "    df = pd.DataFrame(sort_cols) # convert to dataframe\n",
    "    df = df.astype(int) # convert df from str to int\n",
    "\n",
    "    # print('Part 1:', sum(abs(df[0]-df[1]))) # calc distance between col entries\n",
    "    # note that i dont use series.sum() or .abs() because theyre one character longer\n",
    "\n",
    "    counts = df.groupby(1, as_index=False).count() # count how many times each in the right column appear\n",
    "    df = df.merge(counts, left_on=0, right_on=1) # merge onto the main df\n",
    "    # print('Part 2:', sum(df['key_0']*df['0_y'])) # calc similarity according to instructions\n",
    "    # note again using sum(), and the column headers are odd because of merging conflicts\n",
    "\n"
   ]
  }
 ],
 "metadata": {
  "kernelspec": {
   "display_name": ".venv",
   "language": "python",
   "name": "python3"
  },
  "language_info": {
   "codemirror_mode": {
    "name": "ipython",
    "version": 3
   },
   "file_extension": ".py",
   "mimetype": "text/x-python",
   "name": "python",
   "nbconvert_exporter": "python",
   "pygments_lexer": "ipython3",
   "version": "3.13.0"
  }
 },
 "nbformat": 4,
 "nbformat_minor": 2
}
