{
 "cells": [
  {
   "cell_type": "code",
   "execution_count": 5,
   "metadata": {},
   "outputs": [
    {
     "name": "stdout",
     "output_type": "stream",
     "text": [
      "1: 1341714\n",
      "2: 27384707\n"
     ]
    }
   ],
   "source": [
    "with open(__import__('os').path.realpath('input')) as f: print((lambda l, p:(f'1: {sum(map(lambda x: abs(int(x[0]) - int(x[1])), zip(*[sorted(k) for k in list(zip(*map(lambda x: x.strip().split('   '), l)))])))}\\n2: {(lambda d: int(p.merge(left=d[[0]], right=d.groupby(1, as_index=False).count().rename(columns={0:2, 1:0}), on=0, how='left').apply(lambda r: r[0]*r[2], axis=1).sum()))(p.Series(l).str.strip().str.split('   ', expand=True).astype(int))}'))(f.readlines(), __import__('pandas')))"
   ]
  }
 ],
 "metadata": {
  "kernelspec": {
   "display_name": ".venv",
   "language": "python",
   "name": "python3"
  },
  "language_info": {
   "codemirror_mode": {
    "name": "ipython",
    "version": 3
   },
   "file_extension": ".py",
   "mimetype": "text/x-python",
   "name": "python",
   "nbconvert_exporter": "python",
   "pygments_lexer": "ipython3",
   "version": "3.13.0"
  }
 },
 "nbformat": 4,
 "nbformat_minor": 2
}
